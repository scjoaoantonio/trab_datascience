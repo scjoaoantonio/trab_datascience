{
 "cells": [
  {
   "cell_type": "code",
   "execution_count": null,
   "metadata": {},
   "outputs": [],
   "source": [
    "# import folium"
   ]
  },
  {
   "cell_type": "code",
   "execution_count": null,
   "metadata": {},
   "outputs": [],
   "source": [
    "# # 6. Visualização em mapa (se houver dados geográficos)\n",
    "# if {'latitude', 'longitude'}.issubset(data.columns):\n",
    "#     print(\"Gerando mapa com base nas colunas de latitude e longitude...\")\n",
    "#     map_center = [data['latitude'].mean(), data['longitude'].mean()]\n",
    "#     data_map = folium.Map(location=map_center, zoom_start=12)\n",
    "    \n",
    "#     for _, row in data.iterrows():\n",
    "#         folium.Marker(\n",
    "#             location=[row['latitude'], row['longitude']],\n",
    "#             popup=row.get('description', 'Sem descrição')\n",
    "#         ).add_to(data_map)\n",
    "    \n",
    "#     data_map.save('mapa_dados.html')\n",
    "#     print(\"Mapa salvo como 'mapa_dados.html'.\")"
   ]
  },
  {
   "cell_type": "code",
   "execution_count": null,
   "metadata": {},
   "outputs": [],
   "source": [
    "# # 7. Preparação para filtros (Exemplo com colunas categóricas)\n",
    "# def plot_filtered_data(filter_column, filter_value):\n",
    "#     if filter_column in data.columns:\n",
    "#         filtered_data = data[data[filter_column] == filter_value]\n",
    "#         print(f\"\\nDados filtrados por {filter_column} = {filter_value}:\\n\")\n",
    "#         print(filtered_data.head())\n",
    "#         return filtered_data\n",
    "#     else:\n",
    "#         print(f\"A coluna {filter_column} não foi encontrada nos dados.\")\n",
    "\n",
    "# # Exemplo de uso do filtro (ajuste os valores conforme o dataset)\n",
    "# # filtered_data = plot_filtered_data('categoria', 'Exemplo')"
   ]
  }
 ],
 "metadata": {
  "language_info": {
   "name": "python"
  }
 },
 "nbformat": 4,
 "nbformat_minor": 2
}
